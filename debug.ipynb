{
 "metadata": {
  "language_info": {
   "codemirror_mode": {
    "name": "ipython",
    "version": 3
   },
   "file_extension": ".py",
   "mimetype": "text/x-python",
   "name": "python",
   "nbconvert_exporter": "python",
   "pygments_lexer": "ipython3",
   "version": "3.8.5-final"
  },
  "orig_nbformat": 2,
  "kernelspec": {
   "name": "python38564bit595d7e7e52394aa4b411dabaf2fae781",
   "display_name": "Python 3.8.5 64-bit",
   "language": "python"
  }
 },
 "nbformat": 4,
 "nbformat_minor": 2,
 "cells": [
  {
   "cell_type": "code",
   "execution_count": 10,
   "metadata": {},
   "outputs": [],
   "source": [
    "# Math operations\n",
    "import numpy as np\n",
    "\n",
    "# Get requests to download mp3 or wav files\n",
    "import requests\n",
    "\n",
    "# Used to replace file operations with in memory operations (with ByteIO)\n",
    "import io\n",
    "\n",
    "# To read and write wav files\n",
    "import soundfile\n",
    "from copy import copy\n",
    "\n",
    "# Imports related to the use of S3\n",
    "import logging\n",
    "import boto3\n",
    "from botocore.exceptions import ClientError\n",
    "\n",
    "# Convert MP3 files to WAV file\n",
    "from pydub import AudioSegment\n",
    "\n",
    "\n",
    "debug_url = 'https://file-examples-com.github.io/uploads/2017/11/file_example_WAV_1MG.wav'\n",
    "debug_outputfile_noext = 'tobeuploaded'\n",
    "debug_file = 'who-are-you.mp3'\n",
    "BUCKET_NAME = ''\n",
    "\n",
    "\n",
    "class AudioProcessing():\n",
    "    def __init__(self, url=None, bytes_object=None, is_mp3=False):\n",
    "        \"\"\"\n",
    "        In memory simple audio operation on wav files. Supports mp3 to wav conversion\n",
    "        \"\"\"\n",
    "        if(url):\n",
    "            # create wav file from url\n",
    "            r = requests.get(url)\n",
    "            bytes_object = r.content\n",
    "        \n",
    "        if(is_mp3):\n",
    "            bytes_object = AudioProcessing.mp3_to_wav(bytes_object)\n",
    "            print(\"Conversion successful\")\n",
    "        \n",
    "        self.audio_data, self.freq = soundfile.read(bytes_object)\n",
    "        return\n",
    "\n",
    "    def write_to_file(self, filename):\n",
    "        soundfile.write(filename, self.audio_data, self.freq)\n",
    "\n",
    "    def write_to_ioBytes(self):\n",
    "        output = io.BytesIO()\n",
    "        soundfile.write(output, self.audio_data, self.freq, format='wav')\n",
    "        return output\n",
    "\n",
    "    def fetch_sound_wave(self ,url):\n",
    "        r = requests.get(url)\n",
    "        self.audio_data, self.freq = soundfile.read(io.BytesIO(r.content))\n",
    "\n",
    "    def add_echo(self, delay):\n",
    "        '''Applies an echo that is 0...<input audio duration in seconds> seconds from the beginning'''\n",
    "        output_audio = copy(self.audio_data)\n",
    "        output_delay = delay * self.freq\n",
    "\n",
    "        for count in range(len(self.audio_data)):\n",
    "            e = self.audio_data[count]\n",
    "            output_audio[count] = e + self.audio_data[count - int(output_delay)]\n",
    "\n",
    "        self.audio_data = output_audio\n",
    "\n",
    "    def set_audio_speed(self, speed_factor):\n",
    "        '''Sets the speed of the audio by a floating-point factor'''\n",
    "        sound_index = np.round(np.arange(0, len(self.audio_data), speed_factor))\n",
    "        self.audio_data = self.audio_data[sound_index[sound_index < len(self.audio_data)].astype(int)]\n",
    "\n",
    "    def filter_frequency(self, threshold):\n",
    "        output_audio = copy(self.audio_data)\n",
    "        for count in range(len(self.audio_data)):\n",
    "            e = self.audio_data[count]\n",
    "            if ( e < threshold ):\n",
    "                output_audio[count] = threshold\n",
    "            else :\n",
    "                output_audio[count] = e\n",
    "        self.audio_data = output_audio\n",
    "\n",
    "    def custom_filter(self, threshold):\n",
    "        output_audio = copy(self.audio_data)\n",
    "        for count in range(len(self.audio_data)):\n",
    "            e = self.audio_data[count]\n",
    "            output_audio[count] = (e / threshold)\n",
    "\n",
    "        self.audio_data = output_audio\n",
    "\n",
    "    def set_volume(self, level):\n",
    "        '''Sets the overall volume of the data via floating-point factor'''\n",
    "        output_audio = copy(self.audio_data)\n",
    "        for count in range(len(self.audio_data)):\n",
    "            e = self.audio_data[count]\n",
    "            output_audio[count] = (e * level)\n",
    "\n",
    "        self.audio_data = output_audio\n",
    "\n",
    "    def deepen(self, factor=0.7):\n",
    "        self.freq = int(self.freq * factor)\n",
    "\n",
    "    def pitch(self, factor=0.7):\n",
    "        self.freq = int(self.freq / factor)\n",
    "\n",
    "    @staticmethod\n",
    "    def hide_voice (audiotool):\n",
    "        audiotool.set_volume(1.3)\n",
    "        audiotool.add_echo(0.1)\n",
    "        audiotool.custom_filter(1.3)\n",
    "        audiotool.deepen()\n",
    "\n",
    "    @staticmethod\n",
    "    def mp3_to_wav(mp3):\n",
    "        wav = io.BytesIO()\n",
    "        sound = AudioSegment.from_mp3(mp3)\n",
    "        sound.export(wav, format=\"wav\")\n",
    "        return wav\n",
    "\n",
    "def fetch_from_url(url):\n",
    "    r = requests.get(url)\n",
    "    try:\n",
    "        return io.BytesIO(r.content)\n",
    "    except :\n",
    "        raise(Exception(\"URL provided does not contain a wav file.\"))\n",
    "\n",
    "def upload_file_to_S3(file_name, bucket, object_name=None):\n",
    "    \"\"\"Upload a file to an S3 bucket\n",
    "\n",
    "    :param file_name: File to upload\n",
    "    :param bucket: Bucket to upload to\n",
    "    :param object_name: S3 object name. If not specified then file_name is used\n",
    "    :return: True if file was uploaded, else False\n",
    "    \"\"\"\n",
    "\n",
    "    # If S3 object_name was not specified, use file_name\n",
    "    if object_name is None:\n",
    "        object_name = file_name\n",
    "\n",
    "    # Upload the file\n",
    "    s3_client = boto3.client('s3')\n",
    "    try:\n",
    "        response = s3_client.upload_file(file_name, bucket, object_name)\n",
    "    except ClientError as e:\n",
    "        print(\"S3 error occured \"+ e)\n",
    "        return False\n",
    "    return True"
   ]
  },
  {
   "cell_type": "code",
   "execution_count": 11,
   "metadata": {},
   "outputs": [],
   "source": [
    "audiotool = AudioProcessing(bytes_object=\"result.wav\", is_mp3=False)\n",
    "AudioProcessing.hide_voice(audiotool)\n",
    "output = audiotool.write_to_ioBytes()"
   ]
  },
  {
   "cell_type": "code",
   "execution_count": 12,
   "metadata": {},
   "outputs": [],
   "source": [
    "x = fetch_from_url(debug_url)"
   ]
  },
  {
   "cell_type": "code",
   "execution_count": 13,
   "metadata": {},
   "outputs": [
    {
     "output_type": "execute_result",
     "data": {
      "text/plain": [
       "_io.BytesIO"
      ]
     },
     "metadata": {},
     "execution_count": 13
    }
   ],
   "source": [
    "type(x)"
   ]
  },
  {
   "cell_type": "code",
   "execution_count": 14,
   "metadata": {},
   "outputs": [],
   "source": [
    "audiotool = AudioProcessing(bytes_object=x, is_mp3=False)"
   ]
  },
  {
   "cell_type": "code",
   "execution_count": 15,
   "metadata": {},
   "outputs": [],
   "source": [
    "x = AudioProcessing.mp3_to_wav(\"who-are-you.mp3\")"
   ]
  },
  {
   "cell_type": "code",
   "execution_count": 16,
   "metadata": {},
   "outputs": [
    {
     "output_type": "error",
     "ename": "RuntimeError",
     "evalue": "Error opening <_io.BytesIO object at 0x7fb122f16e00>: File contains data in an unknown format.",
     "traceback": [
      "\u001b[0;31m---------------------------------------------------------------------------\u001b[0m",
      "\u001b[0;31mRuntimeError\u001b[0m                              Traceback (most recent call last)",
      "\u001b[0;32m<ipython-input-16-1a96094b34a5>\u001b[0m in \u001b[0;36m<module>\u001b[0;34m\u001b[0m\n\u001b[0;32m----> 1\u001b[0;31m \u001b[0maudiotool\u001b[0m \u001b[0;34m=\u001b[0m \u001b[0mAudioProcessing\u001b[0m\u001b[0;34m(\u001b[0m\u001b[0mbytes_object\u001b[0m\u001b[0;34m=\u001b[0m\u001b[0mx\u001b[0m\u001b[0;34m,\u001b[0m \u001b[0mis_mp3\u001b[0m\u001b[0;34m=\u001b[0m\u001b[0;32mFalse\u001b[0m\u001b[0;34m)\u001b[0m\u001b[0;34m\u001b[0m\u001b[0;34m\u001b[0m\u001b[0m\n\u001b[0m",
      "\u001b[0;32m<ipython-input-10-bb48966c6d89>\u001b[0m in \u001b[0;36m__init__\u001b[0;34m(self, url, bytes_object, is_mp3)\u001b[0m\n\u001b[1;32m     41\u001b[0m             \u001b[0mprint\u001b[0m\u001b[0;34m(\u001b[0m\u001b[0;34m\"Conversion successful\"\u001b[0m\u001b[0;34m)\u001b[0m\u001b[0;34m\u001b[0m\u001b[0;34m\u001b[0m\u001b[0m\n\u001b[1;32m     42\u001b[0m \u001b[0;34m\u001b[0m\u001b[0m\n\u001b[0;32m---> 43\u001b[0;31m         \u001b[0mself\u001b[0m\u001b[0;34m.\u001b[0m\u001b[0maudio_data\u001b[0m\u001b[0;34m,\u001b[0m \u001b[0mself\u001b[0m\u001b[0;34m.\u001b[0m\u001b[0mfreq\u001b[0m \u001b[0;34m=\u001b[0m \u001b[0msoundfile\u001b[0m\u001b[0;34m.\u001b[0m\u001b[0mread\u001b[0m\u001b[0;34m(\u001b[0m\u001b[0mbytes_object\u001b[0m\u001b[0;34m)\u001b[0m\u001b[0;34m\u001b[0m\u001b[0;34m\u001b[0m\u001b[0m\n\u001b[0m\u001b[1;32m     44\u001b[0m         \u001b[0;32mreturn\u001b[0m\u001b[0;34m\u001b[0m\u001b[0;34m\u001b[0m\u001b[0m\n\u001b[1;32m     45\u001b[0m \u001b[0;34m\u001b[0m\u001b[0m\n",
      "\u001b[0;32m~/.local/lib/python3.8/site-packages/soundfile.py\u001b[0m in \u001b[0;36mread\u001b[0;34m(file, frames, start, stop, dtype, always_2d, fill_value, out, samplerate, channels, format, subtype, endian, closefd)\u001b[0m\n\u001b[1;32m    254\u001b[0m \u001b[0;34m\u001b[0m\u001b[0m\n\u001b[1;32m    255\u001b[0m     \"\"\"\n\u001b[0;32m--> 256\u001b[0;31m     with SoundFile(file, 'r', samplerate, channels,\n\u001b[0m\u001b[1;32m    257\u001b[0m                    subtype, endian, format, closefd) as f:\n\u001b[1;32m    258\u001b[0m         \u001b[0mframes\u001b[0m \u001b[0;34m=\u001b[0m \u001b[0mf\u001b[0m\u001b[0;34m.\u001b[0m\u001b[0m_prepare_read\u001b[0m\u001b[0;34m(\u001b[0m\u001b[0mstart\u001b[0m\u001b[0;34m,\u001b[0m \u001b[0mstop\u001b[0m\u001b[0;34m,\u001b[0m \u001b[0mframes\u001b[0m\u001b[0;34m)\u001b[0m\u001b[0;34m\u001b[0m\u001b[0;34m\u001b[0m\u001b[0m\n",
      "\u001b[0;32m~/.local/lib/python3.8/site-packages/soundfile.py\u001b[0m in \u001b[0;36m__init__\u001b[0;34m(self, file, mode, samplerate, channels, subtype, endian, format, closefd)\u001b[0m\n\u001b[1;32m    627\u001b[0m         self._info = _create_info_struct(file, mode, samplerate, channels,\n\u001b[1;32m    628\u001b[0m                                          format, subtype, endian)\n\u001b[0;32m--> 629\u001b[0;31m         \u001b[0mself\u001b[0m\u001b[0;34m.\u001b[0m\u001b[0m_file\u001b[0m \u001b[0;34m=\u001b[0m \u001b[0mself\u001b[0m\u001b[0;34m.\u001b[0m\u001b[0m_open\u001b[0m\u001b[0;34m(\u001b[0m\u001b[0mfile\u001b[0m\u001b[0;34m,\u001b[0m \u001b[0mmode_int\u001b[0m\u001b[0;34m,\u001b[0m \u001b[0mclosefd\u001b[0m\u001b[0;34m)\u001b[0m\u001b[0;34m\u001b[0m\u001b[0;34m\u001b[0m\u001b[0m\n\u001b[0m\u001b[1;32m    630\u001b[0m         \u001b[0;32mif\u001b[0m \u001b[0mset\u001b[0m\u001b[0;34m(\u001b[0m\u001b[0mmode\u001b[0m\u001b[0;34m)\u001b[0m\u001b[0;34m.\u001b[0m\u001b[0missuperset\u001b[0m\u001b[0;34m(\u001b[0m\u001b[0;34m'r+'\u001b[0m\u001b[0;34m)\u001b[0m \u001b[0;32mand\u001b[0m \u001b[0mself\u001b[0m\u001b[0;34m.\u001b[0m\u001b[0mseekable\u001b[0m\u001b[0;34m(\u001b[0m\u001b[0;34m)\u001b[0m\u001b[0;34m:\u001b[0m\u001b[0;34m\u001b[0m\u001b[0;34m\u001b[0m\u001b[0m\n\u001b[1;32m    631\u001b[0m             \u001b[0;31m# Move write position to 0 (like in Python file objects)\u001b[0m\u001b[0;34m\u001b[0m\u001b[0;34m\u001b[0m\u001b[0;34m\u001b[0m\u001b[0m\n",
      "\u001b[0;32m~/.local/lib/python3.8/site-packages/soundfile.py\u001b[0m in \u001b[0;36m_open\u001b[0;34m(self, file, mode_int, closefd)\u001b[0m\n\u001b[1;32m   1181\u001b[0m         \u001b[0;32melse\u001b[0m\u001b[0;34m:\u001b[0m\u001b[0;34m\u001b[0m\u001b[0;34m\u001b[0m\u001b[0m\n\u001b[1;32m   1182\u001b[0m             \u001b[0;32mraise\u001b[0m \u001b[0mTypeError\u001b[0m\u001b[0;34m(\u001b[0m\u001b[0;34m\"Invalid file: {0!r}\"\u001b[0m\u001b[0;34m.\u001b[0m\u001b[0mformat\u001b[0m\u001b[0;34m(\u001b[0m\u001b[0mself\u001b[0m\u001b[0;34m.\u001b[0m\u001b[0mname\u001b[0m\u001b[0;34m)\u001b[0m\u001b[0;34m)\u001b[0m\u001b[0;34m\u001b[0m\u001b[0;34m\u001b[0m\u001b[0m\n\u001b[0;32m-> 1183\u001b[0;31m         _error_check(_snd.sf_error(file_ptr),\n\u001b[0m\u001b[1;32m   1184\u001b[0m                      \"Error opening {0!r}: \".format(self.name))\n\u001b[1;32m   1185\u001b[0m         \u001b[0;32mif\u001b[0m \u001b[0mmode_int\u001b[0m \u001b[0;34m==\u001b[0m \u001b[0m_snd\u001b[0m\u001b[0;34m.\u001b[0m\u001b[0mSFM_WRITE\u001b[0m\u001b[0;34m:\u001b[0m\u001b[0;34m\u001b[0m\u001b[0;34m\u001b[0m\u001b[0m\n",
      "\u001b[0;32m~/.local/lib/python3.8/site-packages/soundfile.py\u001b[0m in \u001b[0;36m_error_check\u001b[0;34m(err, prefix)\u001b[0m\n\u001b[1;32m   1355\u001b[0m     \u001b[0;32mif\u001b[0m \u001b[0merr\u001b[0m \u001b[0;34m!=\u001b[0m \u001b[0;36m0\u001b[0m\u001b[0;34m:\u001b[0m\u001b[0;34m\u001b[0m\u001b[0;34m\u001b[0m\u001b[0m\n\u001b[1;32m   1356\u001b[0m         \u001b[0merr_str\u001b[0m \u001b[0;34m=\u001b[0m \u001b[0m_snd\u001b[0m\u001b[0;34m.\u001b[0m\u001b[0msf_error_number\u001b[0m\u001b[0;34m(\u001b[0m\u001b[0merr\u001b[0m\u001b[0;34m)\u001b[0m\u001b[0;34m\u001b[0m\u001b[0;34m\u001b[0m\u001b[0m\n\u001b[0;32m-> 1357\u001b[0;31m         \u001b[0;32mraise\u001b[0m \u001b[0mRuntimeError\u001b[0m\u001b[0;34m(\u001b[0m\u001b[0mprefix\u001b[0m \u001b[0;34m+\u001b[0m \u001b[0m_ffi\u001b[0m\u001b[0;34m.\u001b[0m\u001b[0mstring\u001b[0m\u001b[0;34m(\u001b[0m\u001b[0merr_str\u001b[0m\u001b[0;34m)\u001b[0m\u001b[0;34m.\u001b[0m\u001b[0mdecode\u001b[0m\u001b[0;34m(\u001b[0m\u001b[0;34m'utf-8'\u001b[0m\u001b[0;34m,\u001b[0m \u001b[0;34m'replace'\u001b[0m\u001b[0;34m)\u001b[0m\u001b[0;34m)\u001b[0m\u001b[0;34m\u001b[0m\u001b[0;34m\u001b[0m\u001b[0m\n\u001b[0m\u001b[1;32m   1358\u001b[0m \u001b[0;34m\u001b[0m\u001b[0m\n\u001b[1;32m   1359\u001b[0m \u001b[0;34m\u001b[0m\u001b[0m\n",
      "\u001b[0;31mRuntimeError\u001b[0m: Error opening <_io.BytesIO object at 0x7fb122f16e00>: File contains data in an unknown format."
     ]
    }
   ],
   "source": [
    "audiotool = AudioProcessing(bytes_object=x, is_mp3=False)"
   ]
  },
  {
   "cell_type": "code",
   "execution_count": null,
   "metadata": {},
   "outputs": [],
   "source": []
  }
 ]
}